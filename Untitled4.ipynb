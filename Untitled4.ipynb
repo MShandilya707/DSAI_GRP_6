{
  "nbformat": 4,
  "nbformat_minor": 0,
  "metadata": {
    "colab": {
      "provenance": []
    },
    "kernelspec": {
      "name": "python3",
      "display_name": "Python 3"
    },
    "language_info": {
      "name": "python"
    }
  },
  "cells": [
    {
      "cell_type": "code",
      "execution_count": 1,
      "metadata": {
        "id": "c12MvdCjlqIa"
      },
      "outputs": [],
      "source": [
        "import pandas as pd\n",
        "planetary_data = pd.read_csv('planetary_systems_data.csv')\n",
        "stellar_data = pd.read_csv('stellar_hosts_data.csv')\n"
      ]
    },
    {
      "cell_type": "code",
      "source": [
        "planetary_data['pl_bmasse'] = planetary_data['pl_bmassj'] * 317.8\n",
        "planetary_data['pl_rade'] = planetary_data['pl_radj'] * 11.2\n",
        "\n"
      ],
      "metadata": {
        "id": "RNG3XpRvn7c8"
      },
      "execution_count": 2,
      "outputs": []
    },
    {
      "cell_type": "code",
      "source": [
        "merged_data = pd.merge(planetary_data, stellar_data, on='hostname')\n"
      ],
      "metadata": {
        "id": "lRjfkl0VmJvb"
      },
      "execution_count": 3,
      "outputs": []
    },
    {
      "cell_type": "code",
      "source": [
        "# Check for missing values\n",
        "print(\"\\nMissing Values in Merged Data:\")\n",
        "print(merged_data.isnull().sum())\n",
        "\n",
        "# Drop rows with missing values (or use imputation if appropriate)\n",
        "cleaned_data = merged_data.dropna()\n",
        "print(f\"\\nData after dropping missing values: {cleaned_data.shape}\")\n"
      ],
      "metadata": {
        "colab": {
          "base_uri": "https://localhost:8080/"
        },
        "id": "Bj7XKX22n1YF",
        "outputId": "b07ec257-ccfa-469c-dab5-b2fc3148c060"
      },
      "execution_count": 4,
      "outputs": [
        {
          "output_type": "stream",
          "name": "stdout",
          "text": [
            "\n",
            "Missing Values in Merged Data:\n",
            "loc_rowid            0\n",
            "pl_name              0\n",
            "hostname             0\n",
            "sy_snum_x            0\n",
            "sy_pnum_x            0\n",
            "pl_orbper          905\n",
            "pl_orbsmax        1573\n",
            "pl_rade            219\n",
            "pl_radj            219\n",
            "pl_bmasse          261\n",
            "pl_bmassj          261\n",
            "pl_bmassprov         0\n",
            "pl_orbeccen       3767\n",
            "pl_insol         13163\n",
            "pl_eqt           11211\n",
            "ttv_flag             0\n",
            "st_spectype      52654\n",
            "st_teff_x          653\n",
            "st_rad_x           750\n",
            "st_mass_x           16\n",
            "st_met_x          1623\n",
            "st_metratio_x     1819\n",
            "st_logg_x          734\n",
            "rastr_x              0\n",
            "ra_x                 0\n",
            "decstr_x             0\n",
            "dec_x                0\n",
            "sy_dist_x          169\n",
            "sy_vmag_x          671\n",
            "sy_kmag_x          678\n",
            "sy_gaiamag_x      1282\n",
            "sy_name              0\n",
            "sy_snum_y            0\n",
            "sy_pnum_y            0\n",
            "st_teff_y        12915\n",
            "st_rad_y         13465\n",
            "st_mass_y        28037\n",
            "st_met_y         36540\n",
            "st_metratio_y    36741\n",
            "st_logg_y        21228\n",
            "rastr_y              4\n",
            "ra_y                 4\n",
            "decstr_y             4\n",
            "dec_y                4\n",
            "sy_dist_y         1363\n",
            "sy_vmag_y          716\n",
            "sy_kmag_y          753\n",
            "sy_gaiamag_y      1306\n",
            "dtype: int64\n",
            "\n",
            "Data after dropping missing values: (3489, 48)\n"
          ]
        }
      ]
    },
    {
      "cell_type": "code",
      "source": [
        "# Select relevant features and target variable\n",
        "X = cleaned_data[['pl_bmasse', 'pl_rade', 'pl_orbsmax']]\n",
        "y = cleaned_data['pl_orbper']\n",
        "\n",
        "# Display the selected features and target variable\n",
        "print(\"\\nSelected Features:\")\n",
        "print(X.head())\n",
        "print(\"\\nTarget Variable:\")\n",
        "print(y.head())\n"
      ],
      "metadata": {
        "colab": {
          "base_uri": "https://localhost:8080/"
        },
        "id": "nAzdEQUGpAE0",
        "outputId": "acc428b7-2745-48ba-8610-db8c01b5c9b8"
      },
      "execution_count": 5,
      "outputs": [
        {
          "output_type": "stream",
          "name": "stdout",
          "text": [
            "\n",
            "Selected Features:\n",
            "     pl_bmasse  pl_rade  pl_orbsmax\n",
            "333   7.989492   1.8704     0.01544\n",
            "336   7.989492   1.8704     0.01544\n",
            "338   7.989492   1.8704     0.01544\n",
            "340   7.989492   1.8704     0.01544\n",
            "343   7.989492   1.8704     0.01544\n",
            "\n",
            "Target Variable:\n",
            "333    0.736547\n",
            "336    0.736547\n",
            "338    0.736547\n",
            "340    0.736547\n",
            "343    0.736547\n",
            "Name: pl_orbper, dtype: float64\n"
          ]
        }
      ]
    },
    {
      "cell_type": "code",
      "source": [
        "from sklearn.model_selection import train_test_split\n",
        "\n",
        "# Split the data into training and test sets\n",
        "X_train, X_test, y_train, y_test = train_test_split(X, y, test_size=0.2, random_state=42)\n",
        "\n",
        "print(f\"\\nTraining Set Size: {X_train.shape}\")\n",
        "print(f\"Test Set Size: {X_test.shape}\")\n"
      ],
      "metadata": {
        "colab": {
          "base_uri": "https://localhost:8080/"
        },
        "id": "DsTCAP_rqRS_",
        "outputId": "9b0883e3-9a4f-4ba0-aec0-d695876ccb54"
      },
      "execution_count": 6,
      "outputs": [
        {
          "output_type": "stream",
          "name": "stdout",
          "text": [
            "\n",
            "Training Set Size: (2791, 3)\n",
            "Test Set Size: (698, 3)\n"
          ]
        }
      ]
    },
    {
      "cell_type": "code",
      "source": [
        "from sklearn.linear_model import LinearRegression\n",
        "\n",
        "# Initialize and train the model\n",
        "linear_model = LinearRegression()\n",
        "linear_model.fit(X_train, y_train)\n",
        "\n",
        "# Make predictions on the test set\n",
        "y_pred = linear_model.predict(X_test)\n",
        "\n",
        "print(\"\\nSample Predictions:\")\n",
        "print(y_pred[:5])\n"
      ],
      "metadata": {
        "colab": {
          "base_uri": "https://localhost:8080/"
        },
        "id": "yFXsutDRqSO4",
        "outputId": "24eb4c98-57ae-4436-f837-0a8a4424b20b"
      },
      "execution_count": 7,
      "outputs": [
        {
          "output_type": "stream",
          "name": "stdout",
          "text": [
            "\n",
            "Sample Predictions:\n",
            "[2.58827433e+03 1.10362974e+01 1.97983904e+00 7.60902774e+01\n",
            " 3.26709190e+00]\n"
          ]
        }
      ]
    },
    {
      "cell_type": "code",
      "source": [
        "from sklearn.metrics import r2_score, mean_absolute_error, mean_squared_error\n",
        "\n",
        "# Calculate evaluation metrics\n",
        "r2 = r2_score(y_test, y_pred)\n",
        "mae = mean_absolute_error(y_test, y_pred)\n",
        "mse = mean_squared_error(y_test, y_pred)\n",
        "\n",
        "print(f\"\\nModel Performance:\")\n",
        "print(f\"R² Score: {r2}\")\n",
        "print(f\"Mean Absolute Error (MAE): {mae}\")\n",
        "print(f\"Mean Squared Error (MSE): {mse}\")\n"
      ],
      "metadata": {
        "colab": {
          "base_uri": "https://localhost:8080/"
        },
        "id": "tvOgViE2qSUF",
        "outputId": "f766349d-3e4c-43f7-9f59-0204ef2d15f5"
      },
      "execution_count": 8,
      "outputs": [
        {
          "output_type": "stream",
          "name": "stdout",
          "text": [
            "\n",
            "Model Performance:\n",
            "R² Score: 0.9248885334412064\n",
            "Mean Absolute Error (MAE): 19.33624932143698\n",
            "Mean Squared Error (MSE): 2482.9250363380625\n"
          ]
        }
      ]
    },
    {
      "cell_type": "code",
      "source": [
        "import matplotlib.pyplot as plt\n",
        "\n",
        "# Plot predicted vs actual values\n",
        "plt.scatter(y_test, y_pred, alpha=0.5)\n",
        "plt.xlabel('Actual Orbital Period')\n",
        "plt.ylabel('Predicted Orbital Period')\n",
        "plt.title('Actual vs Predicted Orbital Period')\n",
        "plt.show()\n"
      ],
      "metadata": {
        "id": "mU-r5CvXqf15",
        "outputId": "e24fb300-bf2d-42d7-8f27-a4ecaf136d55",
        "colab": {
          "base_uri": "https://localhost:8080/",
          "height": 472
        }
      },
      "execution_count": 9,
      "outputs": [
        {
          "output_type": "display_data",
          "data": {
            "text/plain": [
              "<Figure size 640x480 with 1 Axes>"
            ],
            "image/png": "[encoded data removed]"
          },
          "metadata": {}
        }
      ]
    }
  ]
}